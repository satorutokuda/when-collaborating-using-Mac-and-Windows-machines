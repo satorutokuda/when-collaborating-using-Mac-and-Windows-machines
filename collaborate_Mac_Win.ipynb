{
 "cells": [
  {
   "cell_type": "markdown",
   "metadata": {},
   "source": [
    "## MacとWindowsメンバー混在でプロジェクトを進める際のメモ\n",
    "\n",
    "### 目次\n",
    "1. ファイル受け渡し <br>\n",
    "<br>\n",
    "<br>\n",
    "\n",
    "\n",
    "\n",
    "\n",
    "### 1. ファイル受け渡し\n",
    "\n",
    "#### トラブル\n",
    "Mac → Windowsでファイルを受取・解凍すると文字化けする。 <br>\n",
    "<br>\n",
    "#### 対処 （解決済み）\n",
    "・文字化けに対応したソフトで解凍する。\n",
    "  EXPLZH https://www.ponsoftware.com/archiver/download.htm\n",
    "  \n"
   ]
  },
  {
   "cell_type": "code",
   "execution_count": null,
   "metadata": {
    "collapsed": true
   },
   "outputs": [],
   "source": []
  },
  {
   "cell_type": "code",
   "execution_count": null,
   "metadata": {
    "collapsed": true
   },
   "outputs": [],
   "source": []
  },
  {
   "cell_type": "code",
   "execution_count": null,
   "metadata": {
    "collapsed": true
   },
   "outputs": [],
   "source": []
  }
 ],
 "metadata": {
  "kernelspec": {
   "display_name": "Python 3",
   "language": "python",
   "name": "python3"
  },
  "language_info": {
   "codemirror_mode": {
    "name": "ipython",
    "version": 3
   },
   "file_extension": ".py",
   "mimetype": "text/x-python",
   "name": "python",
   "nbconvert_exporter": "python",
   "pygments_lexer": "ipython3",
   "version": "3.6.0"
  }
 },
 "nbformat": 4,
 "nbformat_minor": 2
}
